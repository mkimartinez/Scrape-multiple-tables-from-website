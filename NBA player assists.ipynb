{
 "cells": [
  {
   "cell_type": "markdown",
   "metadata": {},
   "source": [
    "# Scraping multiple tables from website using bs4"
   ]
  },
  {
   "cell_type": "markdown",
   "metadata": {},
   "source": [
    "### A simple example f scraping html tables from websites using beautifulsoup and requests libraries\n",
    "### we will scrape basketball stats from the espn webpage below\n",
    "### http://www.espn.com/nba/statistics/player/_/stat/assists/sort/avgAssists"
   ]
  },
  {
   "cell_type": "markdown",
   "metadata": {},
   "source": [
    "## Import the libraries"
   ]
  },
  {
   "cell_type": "code",
   "execution_count": 2,
   "metadata": {},
   "outputs": [],
   "source": [
    "import pandas as pd\n",
    "import requests\n",
    "from bs4 import BeautifulSoup as soup\n",
    "import time #for setting sleeping time between requests\n",
    "headers ={'User-Agent':\"Mozilla/5.0\"}"
   ]
  },
  {
   "cell_type": "markdown",
   "metadata": {},
   "source": [
    "## Use loops to access tables from all the pages and write on text file"
   ]
  },
  {
   "cell_type": "code",
   "execution_count": 3,
   "metadata": {},
   "outputs": [],
   "source": [
    "with open('Basketball_stats.txt','w') as r:\n",
    "    r.write('Assits\\n')\n",
    "num =1\n",
    "while num < 272:\n",
    "    url ='http://www.espn.com/nba/statistics/player/_/stat/assists/sort/avgAssists/count/{}'.format(num)\n",
    "    time.sleep(5)\n",
    "    response= requests.get(url,headers=headers)\n",
    "    if response.status_code == 200:\n",
    "        html = soup(response.content,'html.parser')\n",
    "        stats_table = html.find_all('table',class_='tablehead')\n",
    "        stats_table =stats_table[0]\n",
    "        with open('Basketball_stats.txt','a',encoding='utf-8') as r: # open file in append mode \n",
    "            for row in stats_table.find_all('tr'):\n",
    "                for cell in row.find_all('td'):\n",
    "                    r.write(cell.text.ljust(2)) # ljsut used adding spaces between cells\n",
    "            r.write('\\n')\n",
    "    else:\n",
    "        print('No Response')\n",
    "        print(num)\n",
    "    num += 40  # increment num by 40 "
   ]
  },
  {
   "cell_type": "code",
   "execution_count": null,
   "metadata": {},
   "outputs": [],
   "source": []
  }
 ],
 "metadata": {
  "kernelspec": {
   "display_name": "Python 3",
   "language": "python",
   "name": "python3"
  },
  "language_info": {
   "codemirror_mode": {
    "name": "ipython",
    "version": 3
   },
   "file_extension": ".py",
   "mimetype": "text/x-python",
   "name": "python",
   "nbconvert_exporter": "python",
   "pygments_lexer": "ipython3",
   "version": "3.6.6"
  }
 },
 "nbformat": 4,
 "nbformat_minor": 2
}
